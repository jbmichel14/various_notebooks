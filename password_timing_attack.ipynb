{
 "cells": [
  {
   "cell_type": "markdown",
   "id": "empirical-detection",
   "metadata": {},
   "source": [
    "# Timing attack to guess password from extremely unsecure server"
   ]
  },
  {
   "cell_type": "code",
   "execution_count": 92,
   "id": "floral-tower",
   "metadata": {},
   "outputs": [],
   "source": [
    "import timeit\n",
    "import itertools\n",
    "import random\n",
    "import string\n",
    "import numpy as np\n",
    "from IPython.display import display, clear_output"
   ]
  },
  {
   "cell_type": "code",
   "execution_count": 41,
   "id": "contained-bread",
   "metadata": {},
   "outputs": [],
   "source": [
    "password_database = {'user1': 'blablabla', 'user2' :'1iaj-1aXr-lu0j-9zia', 'user3': 'fjs9328rughenvml'}\n",
    "allowed_chars = string.ascii_lowercase + string.ascii_uppercase + '1234567890' + '-+/_.:?! '"
   ]
  },
  {
   "cell_type": "code",
   "execution_count": 42,
   "id": "departmental-slave",
   "metadata": {},
   "outputs": [],
   "source": [
    "# The weak server\n",
    "def check_password(username, password):\n",
    "    if username not in password_database.keys():\n",
    "        return False\n",
    "    actual = password_database[username]\n",
    "    if len(password) != len(actual):\n",
    "        return False\n",
    "\n",
    "    for i in range(len(actual)):\n",
    "        if password[i] != actual[i]:\n",
    "            return False\n",
    "    return True"
   ]
  },
  {
   "cell_type": "code",
   "execution_count": 43,
   "id": "special-michael",
   "metadata": {},
   "outputs": [],
   "source": [
    "def random_string(length):\n",
    "    return ''.join(random.choices(allowed_chars, k=length))"
   ]
  },
  {
   "cell_type": "code",
   "execution_count": 44,
   "id": "published-decimal",
   "metadata": {},
   "outputs": [],
   "source": [
    "def crack_password_length(username, max_length=32):\n",
    "    trials = 1000\n",
    "    timings = np.empty(max_length)\n",
    "    for i in range(max_length):\n",
    "        time_i = timeit.repeat(stmt='check_password(username, x)',\n",
    "                      setup=f'username={username!r};x=random_string({i!r})',\n",
    "                      globals=globals(), \n",
    "                      number=trials,\n",
    "                      repeat=10)\n",
    "        timings[i] = min(time_i)\n",
    "    return int(np.argmax(timings))"
   ]
  },
  {
   "cell_type": "code",
   "execution_count": 102,
   "id": "friendly-gateway",
   "metadata": {},
   "outputs": [],
   "source": [
    "def crack_password(username, length):\n",
    "    guess = random_string(length)\n",
    "    counter = itertools.count()\n",
    "    trials = 1000\n",
    "    while True:\n",
    "        j = 0\n",
    "        i = next(counter) % length\n",
    "        for c in allowed_chars:\n",
    "            j+=1\n",
    "            new = guess[:i] + c + guess[i+1:]\n",
    "            timings_new = timeit.repeat(stmt='check_password(username, x)',\n",
    "                              setup=f'username={username!r};x={new!r}',\n",
    "                              globals=globals(), \n",
    "                              number=trials,\n",
    "                              repeat=10)\n",
    "            timings_guess = timeit.repeat(stmt='check_password(username, x)',\n",
    "                              setup=f'username={username!r};x={guess!r}',\n",
    "                              globals=globals(), \n",
    "                              number=trials,\n",
    "                              repeat=10)\n",
    "            if check_password(username, new):\n",
    "                clear_output(wait=True)\n",
    "                display(new)\n",
    "                return new, j\n",
    "            if min(timings_new) > min(timings_guess):\n",
    "                r = random.randint(0,10)\n",
    "                guess = new\n",
    "                clear_output(wait=True)\n",
    "                display(guess)"
   ]
  },
  {
   "cell_type": "code",
   "execution_count": 103,
   "id": "classical-cattle",
   "metadata": {},
   "outputs": [],
   "source": [
    "def main():\n",
    "    username = 'user2'\n",
    "    length = crack_password_length(username)\n",
    "    print(f\"using most likely length {length}\")\n",
    "    input(\"hit enter to CRACK...\")\n",
    "    password, j = crack_password(username, length)\n",
    "    print(f\"password cracked in {str(j)} iterations:'{password}'\")"
   ]
  },
  {
   "cell_type": "code",
   "execution_count": 104,
   "id": "imported-valve",
   "metadata": {
    "scrolled": true
   },
   "outputs": [
    {
     "data": {
      "text/plain": [
       "'1iaj-1aXr-lu0j-9zia'"
      ]
     },
     "metadata": {},
     "output_type": "display_data"
    },
    {
     "name": "stdout",
     "output_type": "stream",
     "text": [
      "password cracked in 1 iterations:'1iaj-1aXr-lu0j-9zia'\n"
     ]
    }
   ],
   "source": [
    "main()"
   ]
  }
 ],
 "metadata": {
  "kernelspec": {
   "display_name": "Python 3",
   "language": "python",
   "name": "python3"
  },
  "language_info": {
   "codemirror_mode": {
    "name": "ipython",
    "version": 3
   },
   "file_extension": ".py",
   "mimetype": "text/x-python",
   "name": "python",
   "nbconvert_exporter": "python",
   "pygments_lexer": "ipython3",
   "version": "3.9.2"
  }
 },
 "nbformat": 4,
 "nbformat_minor": 5
}
