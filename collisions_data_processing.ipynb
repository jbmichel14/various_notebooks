{
 "cells": [
  {
   "cell_type": "markdown",
   "metadata": {},
   "source": [
    "# Database Systems Project\n",
    "### Data parsing, processing, splitting and reorganizing and loading the data into the database\n",
    "\n",
    "\n",
    "Library: Pandas"
   ]
  },
  {
   "cell_type": "code",
   "execution_count": 14,
   "metadata": {
    "scrolled": true
   },
   "outputs": [],
   "source": [
    "import pandas as pd\n",
    "import numpy as np"
   ]
  },
  {
   "cell_type": "markdown",
   "metadata": {},
   "source": [
    "### First, parsing of collisions2018.csv"
   ]
  },
  {
   "cell_type": "code",
   "execution_count": 15,
   "metadata": {
    "scrolled": false
   },
   "outputs": [],
   "source": [
    "dfc = pd.read_csv('CSV-2018/collisions2018.csv', dtype={'case_id': np.uint})"
   ]
  },
  {
   "cell_type": "code",
   "execution_count": 16,
   "metadata": {
    "scrolled": false
   },
   "outputs": [
    {
     "data": {
      "text/plain": [
       "case_id                      uint64\n",
       "collision_date               object\n",
       "collision_severity           object\n",
       "collision_time               object\n",
       "county_city_location          int64\n",
       "hit_and_run                  object\n",
       "jurisdiction                float64\n",
       "lighting                     object\n",
       "location_type                object\n",
       "officer_id                   object\n",
       "pcf_violation               float64\n",
       "pcf_violation_category       object\n",
       "pcf_violation_subsection     object\n",
       "population                  float64\n",
       "primary_collision_factor     object\n",
       "process_date                 object\n",
       "ramp_intersection           float64\n",
       "road_condition_1             object\n",
       "road_condition_2             object\n",
       "road_surface                 object\n",
       "tow_away                    float64\n",
       "type_of_collision            object\n",
       "weather_1                    object\n",
       "weather_2                    object\n",
       "dtype: object"
      ]
     },
     "execution_count": 16,
     "metadata": {},
     "output_type": "execute_result"
    }
   ],
   "source": [
    "dfc.dtypes"
   ]
  },
  {
   "cell_type": "markdown",
   "metadata": {},
   "source": [
    "case_id duplicates : there are 3 case_id's that appear twice, which we took the liberty to drop."
   ]
  },
  {
   "cell_type": "code",
   "execution_count": 17,
   "metadata": {
    "scrolled": true
   },
   "outputs": [
    {
     "data": {
      "text/plain": [
       "3678060"
      ]
     },
     "execution_count": 17,
     "metadata": {},
     "output_type": "execute_result"
    }
   ],
   "source": [
    "len(dfc['case_id'].drop_duplicates())"
   ]
  },
  {
   "cell_type": "code",
   "execution_count": 18,
   "metadata": {},
   "outputs": [],
   "source": [
    "dfc = dfc.drop_duplicates('case_id')"
   ]
  },
  {
   "cell_type": "code",
   "execution_count": 19,
   "metadata": {},
   "outputs": [
    {
     "data": {
      "text/plain": [
       "3678060"
      ]
     },
     "execution_count": 19,
     "metadata": {},
     "output_type": "execute_result"
    }
   ],
   "source": [
    "len(dfc)"
   ]
  },
  {
   "cell_type": "code",
   "execution_count": 20,
   "metadata": {},
   "outputs": [],
   "source": [
    "dfc['tow_away'] = dfc['tow_away'].apply(bool)"
   ]
  },
  {
   "cell_type": "code",
   "execution_count": 21,
   "metadata": {},
   "outputs": [],
   "source": [
    "dfc['collision_date'] = pd.to_datetime(dfc['collision_date'])\n",
    "dfc['process_date'] = pd.to_datetime(dfc['process_date'])\n",
    "dfc['collision_time'] = pd.to_datetime(dfc['collision_time'])"
   ]
  },
  {
   "cell_type": "markdown",
   "metadata": {},
   "source": [
    "For attributes we store their corresponding character:"
   ]
  },
  {
   "cell_type": "code",
   "execution_count": 22,
   "metadata": {},
   "outputs": [],
   "source": [
    "d1 = {'property damage only': 0, 'fatal': 1, 'severe injury': 2, 'other injury': 3, 'pain': 4}\n",
    "d2 = {'not hit and run': 'N', 'misdemeanor': 'M', 'felony': 'F', 'D': np.nan}\n",
    "d3 = {'daylight': 'A', 'dusk or dawn': 'B', 'dark with street lights': 'C', \n",
    "      'dark with no street lights': 'D', 'dark with street lights not functioning':'E'}\n",
    "d4 = {'dui': 1, 'impeding traffic': 2, 'speeding': 3, 'following too closely': 4, 'wrong side of road': 5,\n",
    "      'improper passing': 6, 'unsafe lane change': 7, 'improper turning': 8, 'automobile right of way': 9,\n",
    "      'pedestrian right of way': 10, 'pedestrian violation': 11, 'traffic signals and signs': 12,\n",
    "      'hazardous parking': 13, 'lights': 14, 'brakes': 15, 'other equipment': 16,\n",
    "      'other hazardous violation': 17, 'other than driver (or pedestrian)': 18, 'unsafe starting or backing': 19,\n",
    "      'other improper driving': 22, 'pedestrian dui': 23, 'fell asleep': 24, 'unknown': 0, '21804': np.nan}\n",
    "d5 = {'vehicle code violation': 'A', 'other improper driving': 'B', 'other than driver': 'C',\n",
    "      'unknown': 'D', 'fell asleep': 'E'}\n",
    "d6 = {'holes': 'A', 'loose material': 'B', 'obstruction': 'C', 'construction': 'D', 'reduced width': 'E',\n",
    "      'flooded': 'F', 'other': 'G', 'normal': 'H'}\n",
    "d7 = {'H': np.nan}\n",
    "d8 = {'head-on': 'A', 'sideswipe': 'B', 'rear end': 'C', 'broadside': 'D', 'hit object': 'E', 'overturned': 'F',\n",
    "      'pedestrian': 'G', 'other': 'H'}\n",
    "d01 = {'highway': 'H', 'intersection': 'I', 'ramp': 'R'}\n",
    "d02 = {'dry': 'A', 'wet': 'B', 'snowy': 'C', 'slippery': 'D', 'H': np.nan}\n",
    "d03 = {'clear': 'A', 'cloudy': 'B', 'raining': 'C', 'snowing': 'D', 'fog': 'E', 'other': 'F', 'wind': 'E'}\n",
    "d04 = {False: 0, True: 1}"
   ]
  },
  {
   "cell_type": "code",
   "execution_count": 23,
   "metadata": {},
   "outputs": [],
   "source": [
    "dfc = dfc.replace({'collision_severity': d1, 'hit_and_run': d2, 'lighting': d3,\n",
    "                   'pcf_violation_category': d4, 'primary_collision_factor': d5, \n",
    "                   'road_condition_1': d6, 'road_condition_2': d6, 'road_surface': d02,\n",
    "                   'type_of_collision': d8, 'location_type': d01, 'weather_1': d03, 'weather_2': d03,\n",
    "                   'tow_away': d04})\n",
    "dfc['collision_severity'] = dfc['collision_severity'].apply(int)\n",
    "dfc['pcf_violation_category'] = dfc['pcf_violation_category'].apply(float)\n",
    "dfc['tow_away'] = dfc['tow_away'].apply(int)"
   ]
  },
  {
   "cell_type": "markdown",
   "metadata": {},
   "source": [
    "### Now, parsing of parties2018.csv"
   ]
  },
  {
   "cell_type": "code",
   "execution_count": 32,
   "metadata": {
    "scrolled": false
   },
   "outputs": [],
   "source": [
    "dfp = pd.read_csv('CSV-2018/parties2018.csv', dtype={'case_id': np.uint, 'id': np.uint})"
   ]
  },
  {
   "cell_type": "code",
   "execution_count": 33,
   "metadata": {
    "scrolled": true
   },
   "outputs": [
    {
     "data": {
      "text/plain": [
       "at_fault                          int64\n",
       "case_id                          uint64\n",
       "cellphone_use                    object\n",
       "financial_responsibility         object\n",
       "hazardous_materials              object\n",
       "id                               uint64\n",
       "movement_preceding_collision     object\n",
       "other_associate_factor_1         object\n",
       "other_associate_factor_2         object\n",
       "party_age                       float64\n",
       "party_drug_physical              object\n",
       "party_number                      int64\n",
       "party_safety_equipment_1         object\n",
       "party_safety_equipment_2         object\n",
       "party_sex                        object\n",
       "party_sobriety                   object\n",
       "party_type                       object\n",
       "school_bus_related               object\n",
       "statewide_vehicle_type           object\n",
       "vehicle_make                     object\n",
       "vehicle_year                    float64\n",
       "dtype: object"
      ]
     },
     "execution_count": 33,
     "metadata": {},
     "output_type": "execute_result"
    }
   ],
   "source": [
    "dfp.dtypes"
   ]
  },
  {
   "cell_type": "markdown",
   "metadata": {},
   "source": [
    "We fix some type issues (True/False values)"
   ]
  },
  {
   "cell_type": "code",
   "execution_count": 34,
   "metadata": {
    "scrolled": true
   },
   "outputs": [
    {
     "name": "stdout",
     "output_type": "stream",
     "text": [
      "done\n"
     ]
    }
   ],
   "source": [
    "dfp['at_fault'] = dfp['at_fault'].apply(int)\n",
    "print('done')"
   ]
  },
  {
   "cell_type": "markdown",
   "metadata": {},
   "source": [
    "We translate hazardous_materials/school_bus_related to: NaN -> False, 'A'/'E' -> True"
   ]
  },
  {
   "cell_type": "code",
   "execution_count": 35,
   "metadata": {
    "scrolled": false
   },
   "outputs": [
    {
     "name": "stdout",
     "output_type": "stream",
     "text": [
      "done\n"
     ]
    }
   ],
   "source": [
    "dfp = dfp.replace({'hazardous_materials': {np.nan: 0, 'A': 1}, 'school_bus_related': {np.nan: 0, 'E': 1}})\n",
    "dfp['hazardous_materials'] = dfp['hazardous_materials'].apply(int)\n",
    "dfp['school_bus_related'] = dfp['school_bus_related'].apply(int)\n",
    "print('done')"
   ]
  },
  {
   "cell_type": "markdown",
   "metadata": {},
   "source": [
    "Then we translate cellphone_use, financial_responsibility, other_associate_factor_1/2, party_drug_physical, party_safety_equipment_1/2, party_sobriety,  letters to strings"
   ]
  },
  {
   "cell_type": "code",
   "execution_count": 36,
   "metadata": {
    "scrolled": false
   },
   "outputs": [],
   "source": [
    "d9 = {'1': 'B', '2': 'C', '3': 'D'}\n",
    "d10 = {'stopped': 'A', 'proceeding straight': 'B', 'ran off road': 'C', 'making right turn': 'D',\n",
    "       'making left turn': 'E', 'making u-turn': 'F', 'backing': 'G', 'slowing/stopping': 'H',\n",
    "       'passing other vehicle': 'I', 'changing lanes': 'J', 'parking maneuver': 'K', 'entering traffic': 'L',\n",
    "       'other unsafe turning': 'M', 'crossed into opposing lane': 'N', 'parked': 'O', 'merging': 'P',\n",
    "       'traveling wrong way': 'Q', 'other': 'R'}\n",
    "d11 = {'G': np.nan}\n",
    "d12 = {'passenger car': 'A', 'passenger car with trailer': 'B', 'motorcycle or scooter': 'C',\n",
    "      'pickup or panel truck': 'D', 'pickup or panel truck with trailer': 'E', 'truck or truck tractor': 'F',\n",
    "       'truck or truck tractor with trailer': 'G', 'schoolbus': 'H', 'other bus': 'I', 'emergency vehicle': 'J',\n",
    "       'highway construction equipment': 'K', 'bicycle': 'L', 'other vehicle': 'M', 'pedestrian': 'N', 'moped': 'O'}\n",
    "# tried to correct as much errors as I could catch, went through all possible values\n",
    "d13 = {'DODG': 'DODGE', 'TOYTA': 'TOYOTA', 'NISS': 'NISSAN', 'HOND': 'HONDA', 'MAZD': 'MAZDA',\n",
    "       'ALFA ROMERO': 'ALFA ROMEO', 'WHITE GMC': 'GMC', 'WHITE VOLVO': 'VOLVO', 'MERCEDES BENZ': 'MERCEDES-BENZ',\n",
    "       'MERCEDES' : 'MERCEDES-BENZ'}\n",
    "d14 = {'female': 'F', 'male': 'M'}\n",
    "d15 = {'driver': 1, 'pedestrian': 2, 'parked vehicle': 3, 'bicyclist': 4, 'other': 5}"
   ]
  },
  {
   "cell_type": "code",
   "execution_count": 37,
   "metadata": {},
   "outputs": [],
   "source": [
    "dfp = dfp.replace({'cellphone_use': d9, 'movement_preceding_collision': d10, 'party_drug_physical': d11,\n",
    "                   'statewide_vehicle_type': d12, 'vehicle_make': d13, 'party_sex': d14, 'party_type': d15})"
   ]
  },
  {
   "cell_type": "code",
   "execution_count": 38,
   "metadata": {},
   "outputs": [
    {
     "data": {
      "text/plain": [
       "at_fault                          int64\n",
       "case_id                          uint64\n",
       "cellphone_use                    object\n",
       "financial_responsibility         object\n",
       "hazardous_materials               int64\n",
       "id                               uint64\n",
       "movement_preceding_collision     object\n",
       "other_associate_factor_1         object\n",
       "other_associate_factor_2         object\n",
       "party_age                       float64\n",
       "party_drug_physical              object\n",
       "party_number                      int64\n",
       "party_safety_equipment_1         object\n",
       "party_safety_equipment_2         object\n",
       "party_sex                        object\n",
       "party_sobriety                   object\n",
       "party_type                      float64\n",
       "school_bus_related                int64\n",
       "statewide_vehicle_type           object\n",
       "vehicle_make                     object\n",
       "vehicle_year                    float64\n",
       "dtype: object"
      ]
     },
     "execution_count": 38,
     "metadata": {},
     "output_type": "execute_result"
    }
   ],
   "source": [
    "dfp.dtypes"
   ]
  },
  {
   "cell_type": "markdown",
   "metadata": {},
   "source": [
    "### Finally, parsing of victims.csv"
   ]
  },
  {
   "cell_type": "code",
   "execution_count": 39,
   "metadata": {
    "scrolled": true
   },
   "outputs": [
    {
     "name": "stderr",
     "output_type": "stream",
     "text": [
      "/Users/jean-baptistemichel/opt/anaconda3/envs/db-env/lib/python3.8/site-packages/IPython/core/interactiveshell.py:3165: DtypeWarning: Columns (8) have mixed types.Specify dtype option on import or set low_memory=False.\n",
      "  has_raised = await self.run_ast_nodes(code_ast.body, cell_name,\n"
     ]
    }
   ],
   "source": [
    "dfv = pd.read_csv('CSV-2018/victims2018.csv', dtype={'case_id': np.uint, 'id': np.uint})"
   ]
  },
  {
   "cell_type": "code",
   "execution_count": 40,
   "metadata": {
    "scrolled": true
   },
   "outputs": [
    {
     "data": {
      "text/plain": [
       "case_id                       uint64\n",
       "id                            uint64\n",
       "party_number                   int64\n",
       "victim_age                   float64\n",
       "victim_degree_of_injury       object\n",
       "victim_ejected               float64\n",
       "victim_role                    int64\n",
       "victim_safety_equipment_1     object\n",
       "victim_safety_equipment_2     object\n",
       "victim_seating_position      float64\n",
       "victim_sex                    object\n",
       "dtype: object"
      ]
     },
     "execution_count": 40,
     "metadata": {},
     "output_type": "execute_result"
    }
   ],
   "source": [
    "dfv.dtypes"
   ]
  },
  {
   "cell_type": "code",
   "execution_count": 41,
   "metadata": {},
   "outputs": [],
   "source": [
    "d14 = {'no injury': 0, 'killed': 1, 'severe injury': 2, 'other visible injury': 3, 'complaint of pain': 4,\n",
    "       'suspected serious injury': 5, 'suspected minor injury': 6, 'possible injury': 7}\n",
    "d15 = {4.0: np.nan}\n",
    "d16 = {'female': 'F', 'male': 'M'}\n",
    "d17 = {1.0: '1', 2.0: '2', 3.0: '3', 4.0:'4', 5.0: '5', 6.0: '6', 7.0: '7', 8.0:'8', 9.0: '9', 0.0: '0', np.nan:''}"
   ]
  },
  {
   "cell_type": "code",
   "execution_count": 42,
   "metadata": {},
   "outputs": [],
   "source": [
    "dfv = dfv.replace({'victim_degree_of_injury': d14, 'victim_ejected': d15, 'victim_sex': d16,\n",
    "                   'victim_seating_position': d17})\n",
    "dfv['victim_degree_of_injury'] = dfv['victim_degree_of_injury'].apply(int)\n",
    "dfv['victim_role'] = dfv['victim_role'].apply(int)\n",
    "dfv['victim_seating_position'] = dfv['victim_seating_position'].apply(str)"
   ]
  },
  {
   "cell_type": "markdown",
   "metadata": {},
   "source": [
    "## Preparing the data tables"
   ]
  },
  {
   "cell_type": "markdown",
   "metadata": {},
   "source": [
    "First, collisions:"
   ]
  },
  {
   "cell_type": "code",
   "execution_count": 14,
   "metadata": {},
   "outputs": [],
   "source": [
    "collisions = dfc.drop(['road_condition_1', 'road_condition_2', 'weather_1', 'weather_2',\n",
    "                       'county_city_location', 'location_type', 'population', 'pcf_violation',\n",
    "                       'pcf_violation_category', 'pcf_violation_subsection', 'primary_collision_factor'], axis=1)"
   ]
  },
  {
   "cell_type": "markdown",
   "metadata": {},
   "source": [
    "Then, we create the road_condition, PCF and weather entities:"
   ]
  },
  {
   "cell_type": "code",
   "execution_count": 12,
   "metadata": {},
   "outputs": [],
   "source": [
    "rc1 = dfc[['case_id','road_condition_1']].rename(columns={\"road_condition_1\": \"road_condition\"})\n",
    "rc2 = dfc[['case_id','road_condition_2']].rename(columns={\"road_condition_2\": \"road_condition\"})\n",
    "\n",
    "road_condition_collision = rc1.append(rc2).dropna().drop_duplicates()"
   ]
  },
  {
   "cell_type": "code",
   "execution_count": 13,
   "metadata": {},
   "outputs": [],
   "source": [
    "# useless imo\n",
    "road_conditions = dfc[['road_condition_1']].rename(columns={\"road_condition_1\": \"road_condition\"}).drop_duplicates().dropna()"
   ]
  },
  {
   "cell_type": "code",
   "execution_count": 24,
   "metadata": {},
   "outputs": [],
   "source": [
    "pcf = dfc[['case_id', 'pcf_violation', 'pcf_violation_category',\n",
    "           'pcf_violation_subsection', 'primary_collision_factor']]"
   ]
  },
  {
   "cell_type": "code",
   "execution_count": 25,
   "metadata": {},
   "outputs": [
    {
     "data": {
      "text/plain": [
       "3678060"
      ]
     },
     "execution_count": 25,
     "metadata": {},
     "output_type": "execute_result"
    }
   ],
   "source": [
    "len(pcf)"
   ]
  },
  {
   "cell_type": "code",
   "execution_count": 14,
   "metadata": {},
   "outputs": [],
   "source": [
    "w1 = dfc[['case_id','weather_1']].rename(columns={\"weather_1\": \"weather\"})\n",
    "w2 = dfc[['case_id','weather_2']].rename(columns={\"weather_2\": \"weather\"})\n",
    "\n",
    "with_weather = w1.append(w2).dropna().drop_duplicates()"
   ]
  },
  {
   "cell_type": "code",
   "execution_count": 15,
   "metadata": {},
   "outputs": [],
   "source": [
    "# useless imo\n",
    "weather = with_weather[['weather']].drop_duplicates()"
   ]
  },
  {
   "cell_type": "markdown",
   "metadata": {},
   "source": [
    "Finally, the location entity + relationship table"
   ]
  },
  {
   "cell_type": "code",
   "execution_count": 16,
   "metadata": {},
   "outputs": [],
   "source": [
    "at_location = dfc[['case_id', 'county_city_location', 'location_type', 'population']]"
   ]
  },
  {
   "cell_type": "code",
   "execution_count": 17,
   "metadata": {},
   "outputs": [],
   "source": [
    "# useless imo\n",
    "location = dfc[['county_city_location', 'location_type', 'population']].dropna().drop_duplicates()"
   ]
  },
  {
   "cell_type": "code",
   "execution_count": 22,
   "metadata": {
    "scrolled": true
   },
   "outputs": [],
   "source": [
    "road_condition_collision.to_csv('road_cond.csv', index=False)"
   ]
  },
  {
   "cell_type": "code",
   "execution_count": 23,
   "metadata": {},
   "outputs": [],
   "source": [
    "with_weather.to_csv('col_weather.csv', index=False)"
   ]
  },
  {
   "cell_type": "code",
   "execution_count": 24,
   "metadata": {},
   "outputs": [],
   "source": [
    "at_location.to_csv('at_location.csv', index=False)"
   ]
  },
  {
   "cell_type": "code",
   "execution_count": null,
   "metadata": {},
   "outputs": [],
   "source": [
    "pcf.to_csv('pcf.csv', index=False)"
   ]
  },
  {
   "cell_type": "markdown",
   "metadata": {},
   "source": [
    "Now, parties:"
   ]
  },
  {
   "cell_type": "code",
   "execution_count": 43,
   "metadata": {},
   "outputs": [],
   "source": [
    "parties = dfp.drop(['other_associate_factor_1', 'other_associate_factor_2', 'party_safety_equipment_1',\n",
    "                    'party_safety_equipment_2', 'statewide_vehicle_type', 'vehicle_make', 'vehicle_year'], axis=1)\n",
    "parties = parties.rename(columns={\"id\": \"pid\"})"
   ]
  },
  {
   "cell_type": "markdown",
   "metadata": {},
   "source": [
    "Then, we create the other_associated_factor, party_safety_equipment and party_vehicle entities"
   ]
  },
  {
   "cell_type": "code",
   "execution_count": 44,
   "metadata": {},
   "outputs": [],
   "source": [
    "oaf1 = dfp[['id', 'other_associate_factor_1']].rename(columns={\"other_associate_factor_1\": \"other_associated_factor\"})\n",
    "oaf2 = dfp[['id', 'other_associate_factor_2']].rename(columns={\"other_associate_factor_2\": \"other_associated_factor\"})\n",
    "\n",
    "other_associated_factor = oaf1.append(oaf2).dropna().drop_duplicates().rename(columns={\"id\": \"pid\"})"
   ]
  },
  {
   "cell_type": "code",
   "execution_count": 45,
   "metadata": {},
   "outputs": [],
   "source": [
    "pse1 = dfp[['id', 'party_safety_equipment_1']].rename(columns={\"party_safety_equipment_1\": \"party_safety_equipment\"})\n",
    "pse2 = dfp[['id', 'party_safety_equipment_2']].rename(columns={\"party_safety_equipment_2\": \"party_safety_equipment\"})\n",
    "\n",
    "party_safety_equipment = pse1.append(pse2).dropna().drop_duplicates().rename(columns={\"id\": \"pid\"})"
   ]
  },
  {
   "cell_type": "code",
   "execution_count": 46,
   "metadata": {},
   "outputs": [],
   "source": [
    "# useless imo\n",
    "safety_equipment = party_safety_equipment[['party_safety_equipment']].drop_duplicates()"
   ]
  },
  {
   "cell_type": "code",
   "execution_count": 47,
   "metadata": {},
   "outputs": [],
   "source": [
    "party_vehicle = dfp[['id', 'statewide_vehicle_type', 'vehicle_make', 'vehicle_year']].rename(columns={'id':'pid'})"
   ]
  },
  {
   "cell_type": "code",
   "execution_count": null,
   "metadata": {},
   "outputs": [],
   "source": [
    "## Do we also create a useless vehicle table ?"
   ]
  },
  {
   "cell_type": "code",
   "execution_count": null,
   "metadata": {},
   "outputs": [],
   "source": [
    "parties.to_csv('party.csv', index=False)"
   ]
  },
  {
   "cell_type": "code",
   "execution_count": null,
   "metadata": {},
   "outputs": [],
   "source": [
    "other_associated_factor.to_csv('oaf.csv', index=False)"
   ]
  },
  {
   "cell_type": "code",
   "execution_count": null,
   "metadata": {},
   "outputs": [],
   "source": [
    "party_safety_equipment.to_csv('pse.csv', index=False)"
   ]
  },
  {
   "cell_type": "code",
   "execution_count": null,
   "metadata": {},
   "outputs": [],
   "source": [
    "party_vehicle.to_csv('vehicle.csv', index=False)"
   ]
  },
  {
   "cell_type": "markdown",
   "metadata": {},
   "source": [
    "Finally, victims:"
   ]
  },
  {
   "cell_type": "code",
   "execution_count": 48,
   "metadata": {},
   "outputs": [],
   "source": [
    "victims = dfv.drop(['victim_safety_equipment_1', 'victim_safety_equipment_2'],axis=1).rename(columns={\"id\":\"vid\"})"
   ]
  },
  {
   "cell_type": "markdown",
   "metadata": {},
   "source": [
    "Then, we create the victim_safety_equipment entity:"
   ]
  },
  {
   "cell_type": "code",
   "execution_count": 49,
   "metadata": {},
   "outputs": [],
   "source": [
    "vse1 = dfv[['id', 'victim_safety_equipment_1']].rename(columns={\"victim_safety_equipment_1\": \"victim_safety_equipment\"})\n",
    "vse2 = dfv[['id', 'victim_safety_equipment_2']].rename(columns={\"victim_safety_equipment_2\": \"victim_safety_equipment\"})\n",
    "\n",
    "victim_safety_equipment = vse1.append(vse2).dropna().drop_duplicates().rename(columns={\"id\":\"vid\"})"
   ]
  },
  {
   "cell_type": "code",
   "execution_count": 25,
   "metadata": {},
   "outputs": [],
   "source": [
    "victims.to_csv('victim.csv', index=False)"
   ]
  },
  {
   "cell_type": "code",
   "execution_count": 26,
   "metadata": {},
   "outputs": [],
   "source": [
    "victim_safety_equipment.to_csv('vse.csv', index=False)"
   ]
  }
 ],
 "metadata": {
  "kernelspec": {
   "display_name": "Python 3",
   "language": "python",
   "name": "python3"
  },
  "language_info": {
   "codemirror_mode": {
    "name": "ipython",
    "version": 3
   },
   "file_extension": ".py",
   "mimetype": "text/x-python",
   "name": "python",
   "nbconvert_exporter": "python",
   "pygments_lexer": "ipython3",
   "version": "3.8.5"
  }
 },
 "nbformat": 4,
 "nbformat_minor": 5
}
