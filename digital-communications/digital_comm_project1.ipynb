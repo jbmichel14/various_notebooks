{
 "cells": [
  {
   "cell_type": "markdown",
   "metadata": {},
   "source": [
    "# Principles of Digital Communications - Project"
   ]
  },
  {
   "cell_type": "markdown",
   "metadata": {},
   "source": [
    "The project is divided in 3 milestones:\n",
    "- milestone 1 is transforming a string into an array of bits, and an array of bits into a string (with utf-8 encoding)\n",
    "- milestone 2 is creating a transmitter and receiver in the case of a noiseless channel\n",
    "- milestone 3 is taking into account the white gaussian noise in our channel"
   ]
  },
  {
   "cell_type": "code",
   "execution_count": 1,
   "metadata": {},
   "outputs": [],
   "source": [
    "import numpy as np"
   ]
  },
  {
   "cell_type": "code",
   "execution_count": 2,
   "metadata": {
    "scrolled": true
   },
   "outputs": [
    {
     "name": "stdout",
     "output_type": "stream",
     "text": [
      "PDC_project_5.ipynb    project_pdc_pres.ipynb\r\n",
      "README.md              urn-model.ipynb\r\n"
     ]
    }
   ],
   "source": [
    "#we can run terminal commands in here if we start by '!'\n",
    "! ls"
   ]
  },
  {
   "cell_type": "markdown",
   "metadata": {},
   "source": [
    "## All the utility functions: channels, bits <--> string, create codebook, bits <--> int"
   ]
  },
  {
   "cell_type": "markdown",
   "metadata": {},
   "source": [
    "Simulates the channel with noise (milestone 3)"
   ]
  },
  {
   "cell_type": "code",
   "execution_count": 5,
   "metadata": {},
   "outputs": [],
   "source": [
    "def channel(channel_input):\n",
    "    channel_input = np.clip(channel_input,-1,1)\n",
    "    erased_index = np.random.randint(3) \n",
    "    channel_input[erased_index:len(channel_input):3] = 0\n",
    "    return channel_input + np.sqrt(10)*np.random.randn(len(channel_input))"
   ]
  },
  {
   "cell_type": "markdown",
   "metadata": {},
   "source": [
    "Simulates the channel without noise (milestone 2)"
   ]
  },
  {
   "cell_type": "code",
   "execution_count": 6,
   "metadata": {},
   "outputs": [],
   "source": [
    "def noiseless_channel(channel_input):\n",
    "    channel_input = np.clip(channel_input,-1,1)\n",
    "    erased_index = np.random.randint(3) \n",
    "    channel_input[erased_index:len(channel_input):3] = 0\n",
    "    return channel_input"
   ]
  },
  {
   "cell_type": "markdown",
   "metadata": {},
   "source": [
    "Converts a string to an array of bits (UTF-8 encoding)"
   ]
  },
  {
   "cell_type": "code",
   "execution_count": 7,
   "metadata": {},
   "outputs": [],
   "source": [
    "def string_to_bits(string):\n",
    "    arr = bytearray(string, 'utf-8')\n",
    "    return np.unpackbits(arr)"
   ]
  },
  {
   "cell_type": "markdown",
   "metadata": {},
   "source": [
    "Converts an array of bits to a string"
   ]
  },
  {
   "cell_type": "code",
   "execution_count": 8,
   "metadata": {},
   "outputs": [],
   "source": [
    "def bits_to_string(bits):\n",
    "    b = bytearray(np.packbits(bits))\n",
    "    return str(b, 'utf-8', errors='replace')"
   ]
  },
  {
   "cell_type": "markdown",
   "metadata": {},
   "source": [
    "Creates a codebook of size 2**k"
   ]
  },
  {
   "cell_type": "code",
   "execution_count": 9,
   "metadata": {},
   "outputs": [],
   "source": [
    "def create_codebook(k):\n",
    "    C_i0 = [[1]]\n",
    "    #it is an iterative process\n",
    "    if k == 0:\n",
    "        return C_i0\n",
    "    for i in range(0,k):\n",
    "        C_i1 = []\n",
    "        for c in C_i0:\n",
    "            C_i1.append(np.concatenate((c,c)))\n",
    "            C_i1.append(np.concatenate((c,np.dot(-1,c))))\n",
    "        C_i0 = C_i1\n",
    "    return np.array(C_i1)"
   ]
  },
  {
   "cell_type": "markdown",
   "metadata": {},
   "source": [
    "Converts some bits to an int (unsigned)"
   ]
  },
  {
   "cell_type": "code",
   "execution_count": 10,
   "metadata": {},
   "outputs": [],
   "source": [
    "def bin_to_int(bits):\n",
    "    a = np.flip(bits)\n",
    "    result = 0\n",
    "    for k in range(0,len(a)):\n",
    "        result += a[k]*(2**k)\n",
    "    return result"
   ]
  },
  {
   "cell_type": "markdown",
   "metadata": {},
   "source": [
    "Convert an integer to an array of bits"
   ]
  },
  {
   "cell_type": "code",
   "execution_count": 11,
   "metadata": {},
   "outputs": [],
   "source": [
    "def int_to_bits(number, size):\n",
    "    result = np.zeros(size, dtype = int)\n",
    "    b = bin(number)\n",
    "    i = len(b)-1\n",
    "    j = 0\n",
    "    while i > 1:\n",
    "        result[j] = int(b[i])\n",
    "        i-=1\n",
    "        j+=1\n",
    "    result = result[:size]\n",
    "    return np.flip(result)"
   ]
  },
  {
   "cell_type": "markdown",
   "metadata": {},
   "source": [
    "# Mod3 Scheme and Orthogonal Codes"
   ]
  },
  {
   "cell_type": "markdown",
   "metadata": {},
   "source": [
    "First: bits to the mod3 scheme: first half, second half, parity_check (xor)"
   ]
  },
  {
   "cell_type": "code",
   "execution_count": 12,
   "metadata": {},
   "outputs": [],
   "source": [
    "#bits is of length 8*80 = 640\n",
    "def mod3_scheme(bits):\n",
    "    bits = np.array(bits)\n",
    "    if len(bits) < 8*80:\n",
    "        bits.resize(8*80)\n",
    "    k = int(len(bits)/2)\n",
    "    v1 = bits[:k]\n",
    "    v2 = bits[k:]\n",
    "    parity_check = np.bitwise_xor(v1,v2)\n",
    "    return [v1,v2,parity_check]\n",
    "#shape: (3,320)"
   ]
  },
  {
   "cell_type": "markdown",
   "metadata": {},
   "source": [
    "Then we translate the 3 vectors to their corresponding codeword collection. In this step, there is some tuning to do"
   ]
  },
  {
   "cell_type": "code",
   "execution_count": 13,
   "metadata": {},
   "outputs": [],
   "source": [
    "#helper method to translate an array to the corresponding codewords\n",
    "def array_to_codewords(array, word_size, codebook):\n",
    "    result = []\n",
    "    n_words = int(len(array)/word_size)\n",
    "    for i in range(0,n_words):\n",
    "        u = int(word_size*i)\n",
    "        v = int(word_size*i+word_size)\n",
    "        b = array[u:v]\n",
    "        index = bin_to_int(b)\n",
    "        result.append(codebook[index])\n",
    "    return np.array(result).flatten()\n",
    "#the result should be of legth n_words*2**k and must be <= 20000"
   ]
  },
  {
   "cell_type": "code",
   "execution_count": 14,
   "metadata": {},
   "outputs": [
    {
     "data": {
      "text/plain": [
       "49152"
      ]
     },
     "execution_count": 14,
     "metadata": {},
     "output_type": "execute_result"
    }
   ],
   "source": [
    "#n_words    word_size      k         total_n\n",
    "# 64      |     5     |    8     |   49152         --> best error prob about 0.4\n",
    "# 40      |     8     |    8     |   30720         --> bad error prob about 0.75\n",
    "\n",
    "ws = 5\n",
    "nw = int(320/ws)\n",
    "K = 8\n",
    "n = (2**K)*3*nw\n",
    "    \n",
    "#array is of length 960\n",
    "def orthogonal_encoder(array, word_size=ws, k=K):\n",
    "    m = len(array[0]) #should be 320\n",
    "    codebook = create_codebook(k)\n",
    "    v1 = array_to_codewords(array[0], word_size, codebook)\n",
    "    v2 = array_to_codewords(array[1], word_size, codebook)\n",
    "    v3 = array_to_codewords(array[2], word_size, codebook)\n",
    "    result = []\n",
    "    #here, we append them to an array alternatively\n",
    "    for i in range(0,len(v1)):\n",
    "        result.append(v1[i])\n",
    "        result.append(v2[i])\n",
    "        result.append(v3[i])\n",
    "    return np.array(result)\n",
    "#the result should be of length 3*n_words*(2**k) and must be <= 60000\n",
    "n"
   ]
  },
  {
   "cell_type": "markdown",
   "metadata": {},
   "source": [
    "Guess H by taking argmin of the squared-norm of 3 vectors"
   ]
  },
  {
   "cell_type": "code",
   "execution_count": 15,
   "metadata": {},
   "outputs": [],
   "source": [
    "def H_guesser(array):\n",
    "    #argmin_j |y_j|^2\n",
    "    a1 = array[0::3]\n",
    "    a2 = array[1::3]\n",
    "    a3 = array[2::3]\n",
    "    y1 = (np.linalg.norm(a1))\n",
    "    y2 = (np.linalg.norm(a2))\n",
    "    y3 = (np.linalg.norm(a3))\n",
    "    return np.argmin([y1,y2,y3])"
   ]
  },
  {
   "cell_type": "markdown",
   "metadata": {},
   "source": [
    "Now that we know H, we try to recreate the two vectors that went through"
   ]
  },
  {
   "cell_type": "code",
   "execution_count": 16,
   "metadata": {},
   "outputs": [],
   "source": [
    "def decode_word(word, codebook, word_size):\n",
    "    #if word_size <= k, no need to check the whole codebook\n",
    "    p = 2**word_size\n",
    "    r = [np.linalg.norm(c-word) for c in codebook[:p]]\n",
    "    return np.argmin(r)\n",
    "        \n",
    "def decode_array(array, n_words, word_size, codebook, k):\n",
    "    m = 2**k\n",
    "    result = []\n",
    "    for i in range(0,n_words):\n",
    "        word = array[m*i:m*i+m]\n",
    "        result.append(int_to_bits(decode_word(word,codebook,word_size), word_size))\n",
    "    return np.array(result).flatten()"
   ]
  },
  {
   "cell_type": "code",
   "execution_count": 17,
   "metadata": {},
   "outputs": [],
   "source": [
    "def orthogonal_decoder(array, H, word_size=ws, k=K, n_words=nw):\n",
    "    codebook = create_codebook(k)\n",
    "    v1 = array[0::3]\n",
    "    v2 = array[1::3]\n",
    "    v3 = array[2::3]\n",
    "    \n",
    "    if H==0:\n",
    "        #decode v2 and v3\n",
    "        b1 = np.zeros(n_words*word_size, dtype=int)\n",
    "        b2 = decode_array(v2, n_words, word_size, codebook, k)\n",
    "        b3 = decode_array(v3, n_words, word_size, codebook, k)\n",
    "    elif H==1:\n",
    "        #decode v1 and v3\n",
    "        b2 = np.zeros(n_words*word_size, dtype=int)\n",
    "        b1 = decode_array(v1, n_words, word_size, codebook, k)\n",
    "        b3 = decode_array(v3, n_words, word_size, codebook, k)\n",
    "    else:\n",
    "        #decode v1 and v2\n",
    "        b3 = np.zeros(n_words*word_size, dtype=int)\n",
    "        b1 = decode_array(v1, n_words, word_size, codebook, k)\n",
    "        b2 = decode_array(v2, n_words, word_size, codebook, k)\n",
    "    return [b1,b2,b3]\n",
    "\n",
    "\n",
    "#result should be back to len = 960"
   ]
  },
  {
   "cell_type": "code",
   "execution_count": 18,
   "metadata": {},
   "outputs": [],
   "source": [
    "#array is of length 960\n",
    "def mod3_decoder(array, H):\n",
    "    if H == 2:\n",
    "        a1 = array[0]\n",
    "        a2 = array[1]\n",
    "    elif H==1:\n",
    "        a1 = array[0]\n",
    "        a3 = array[2]\n",
    "        a2 = np.bitwise_xor(a1, a3)\n",
    "    else:\n",
    "        a2 = array[1]\n",
    "        a3 = array[2]\n",
    "        a1 = np.bitwise_xor(a2, a3)\n",
    "    return np.concatenate((a1, a2))\n",
    "#the result is of length 640"
   ]
  },
  {
   "cell_type": "markdown",
   "metadata": {},
   "source": [
    "## Explanation of the communication scheme:\n",
    "### 1. Convert the string to an array of bits:\n",
    "\n",
    "\n",
    "### 2. Cut this array in half, create 3 arrays: 1st half, 2nd half, parity check (xor of the 2 first). That way, by only knowing 2 of these 3 arrays, we can reproduce the last one.\n",
    "\n",
    "\n",
    "### 3. Assign each array to a list of codewords, obtained from orthogonal codes. Then put them together alternatively, so that when it goes through a channel deleting 1/3 inputs, we can retrieve 2 of these codeword lists.\n",
    "\n",
    "For k = 2, this is what the codebook would look like:\n",
    "\n",
    "$ \\mathcal{C} = \\{ \\begin{bmatrix}1\\\\1\\\\1\\\\1\\end{bmatrix}, \\begin{bmatrix}1\\\\1\\\\-1\\\\-1\\end{bmatrix}, \\begin{bmatrix}1\\\\-1\\\\1\\\\-1\\end{bmatrix}, \\begin{bmatrix}1\\\\-1\\\\-1\\\\1\\end{bmatrix} \\}$\n",
    "\n",
    "\n",
    "At this step, we can tune parameters to obtain the best result:\n",
    "- $2^k$: the codeword size (and codebook length)\n",
    "- ws and n_words: the word size and number of words, which define the minimum codebook size and the amount of codewords that will be transmitted\n",
    "\n",
    "We obtain our block length n: $n = 2^k * 3 * $nw , which has to be less than 60'000.\n",
    "\n",
    "### 4. The array of length n goes through the communication channel.\n",
    "\n",
    "$ X = \\begin{bmatrix} 1 & 1 & 1 & -1 & ... & -1 & -1 & 1\\end{bmatrix}$ $\\rightarrow$ _channel_ $\\rightarrow$ $ Y = \\begin{bmatrix} 3.43 & 2.24 & -7.32 & -3.2 & ... & -0.54 & 1.32 & 6.32\\end{bmatrix}$\n",
    "\n",
    "\n",
    "### 5. Guess H using a MAP estimator.\n",
    "\n",
    "$ H = argmin_{i=1,2,3} ||Y_i||$ \n",
    "\n",
    "with $Y_i$'s being the 3 subarrays of $Y$, obtained by taking alternatively 1/3 elements.\n",
    "\n",
    "\n",
    "### 6. Knowing H, retrieve the 2 lists of codewords (affected by the noise) that weren't deleted. Use a MAP estimator to estimate each word. Translate them back to an array of bits.\n",
    "\n",
    "$ \\hat{x_l} = argmin_{j=1,...,2^k} ||c_j - y_l||$ for $y_l$ words of $Y_i$'s and $c_j \\in \\mathcal{C}$\n",
    "\n",
    "### 7. Now that we have 2 of the arrays, we can xor them together to obtain the missing one.\n",
    "\n",
    "### 8. Finally, convert the array back to string, with utf-8 encoding. Then compare the string with the original one."
   ]
  },
  {
   "cell_type": "markdown",
   "metadata": {},
   "source": [
    "# Communication:\n"
   ]
  },
  {
   "cell_type": "code",
   "execution_count": 19,
   "metadata": {},
   "outputs": [],
   "source": [
    "string80 = \"I wish my sentence had length 80, otherwise my communication scheme would not...\""
   ]
  },
  {
   "cell_type": "code",
   "execution_count": 20,
   "metadata": {},
   "outputs": [],
   "source": [
    "#if the string is given in txt:\n",
    "#string80 = open('filename.txt', 'r').read()"
   ]
  },
  {
   "cell_type": "code",
   "execution_count": 21,
   "metadata": {
    "scrolled": false
   },
   "outputs": [],
   "source": [
    "# The local communication system\n",
    "def comm(string=string80):\n",
    "    a = string_to_bits(string)\n",
    "    b = mod3_scheme(a)\n",
    "    X = orthogonal_encoder(b)\n",
    "    Y = channel(X)\n",
    "    H = H_guesser(Y)\n",
    "    c = orthogonal_decoder(Y,H)\n",
    "    d = mod3_decoder(c, H)\n",
    "    return bits_to_string(d)"
   ]
  },
  {
   "cell_type": "code",
   "execution_count": 22,
   "metadata": {
    "scrolled": true
   },
   "outputs": [
    {
     "data": {
      "text/plain": [
       "'I wish my sentence had length 80, otherwise my communication scheme would not...'"
      ]
     },
     "execution_count": 22,
     "metadata": {},
     "output_type": "execute_result"
    }
   ],
   "source": [
    "comm()"
   ]
  },
  {
   "cell_type": "code",
   "execution_count": 27,
   "metadata": {},
   "outputs": [],
   "source": [
    "# Method to approximate an error of probability\n",
    "def error_prob():\n",
    "    yes = 0\n",
    "    total = 1000\n",
    "    for i in range(0,total):\n",
    "        if comm() == string80:\n",
    "            yes+=1\n",
    "    return 1 - (yes/total)"
   ]
  },
  {
   "cell_type": "code",
   "execution_count": 28,
   "metadata": {
    "scrolled": false
   },
   "outputs": [
    {
     "data": {
      "text/plain": [
       "0.389"
      ]
     },
     "execution_count": 28,
     "metadata": {},
     "output_type": "execute_result"
    }
   ],
   "source": [
    "error_prob()"
   ]
  },
  {
   "cell_type": "code",
   "execution_count": 23,
   "metadata": {},
   "outputs": [],
   "source": [
    "def mean_and_max():\n",
    "    mean = 0\n",
    "    maxi = 0\n",
    "    maxi2 = 0\n",
    "    total = 100\n",
    "    for i in range(0,total):\n",
    "        b = comm()\n",
    "        s = sum(string80[i] != b[i] for i in range(len(string80)))\n",
    "        mean += s\n",
    "        if s>maxi:\n",
    "            maxi2 = maxi\n",
    "            maxi = s\n",
    "    return mean/total, maxi, maxi2"
   ]
  },
  {
   "cell_type": "code",
   "execution_count": 24,
   "metadata": {},
   "outputs": [
    {
     "data": {
      "text/plain": [
       "(0.82, 11, 4)"
      ]
     },
     "execution_count": 24,
     "metadata": {},
     "output_type": "execute_result"
    }
   ],
   "source": [
    "mean_and_max()"
   ]
  }
 ],
 "metadata": {
  "kernelspec": {
   "display_name": "Python 3",
   "language": "python",
   "name": "python3"
  },
  "language_info": {
   "codemirror_mode": {
    "name": "ipython",
    "version": 3
   },
   "file_extension": ".py",
   "mimetype": "text/x-python",
   "name": "python",
   "nbconvert_exporter": "python",
   "pygments_lexer": "ipython3",
   "version": "3.8.5"
  }
 },
 "nbformat": 4,
 "nbformat_minor": 5
}
