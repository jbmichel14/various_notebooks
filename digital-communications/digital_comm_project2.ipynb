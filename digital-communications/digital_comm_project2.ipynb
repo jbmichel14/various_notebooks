{
 "cells": [
  {
   "cell_type": "markdown",
   "metadata": {},
   "source": [
    "# Principles of Digital Communications - Project"
   ]
  },
  {
   "cell_type": "markdown",
   "metadata": {},
   "source": [
    "The project is divided in 3 milestones:\n",
    "- milestone 1 is transforming a string into an array of bits, and an array of bits into a string (with utf-8 encoding)\n",
    "- milestone 2 is creating a transmitter and receiver in the case of a noiseless channel\n",
    "- milestone 3 is taking into account the white gaussian noise in our channel"
   ]
  },
  {
   "cell_type": "code",
   "execution_count": 1,
   "metadata": {},
   "outputs": [],
   "source": [
    "import numpy as np"
   ]
  },
  {
   "cell_type": "code",
   "execution_count": 2,
   "metadata": {},
   "outputs": [],
   "source": [
    "string80 = \"I wish my sentence had length 80, otherwise my communication scheme would not...\"\n",
    "# string80 = \"h\""
   ]
  },
  {
   "cell_type": "code",
   "execution_count": 3,
   "metadata": {
    "scrolled": true
   },
   "outputs": [
    {
     "data": {
      "text/plain": [
       "80"
      ]
     },
     "execution_count": 3,
     "metadata": {},
     "output_type": "execute_result"
    }
   ],
   "source": [
    "len(string80)"
   ]
  },
  {
   "cell_type": "code",
   "execution_count": 4,
   "metadata": {},
   "outputs": [
    {
     "data": {
      "text/plain": [
       "80"
      ]
     },
     "execution_count": 4,
     "metadata": {},
     "output_type": "execute_result"
    }
   ],
   "source": [
    "len(bytearray(string80, 'utf-8'))"
   ]
  },
  {
   "cell_type": "markdown",
   "metadata": {},
   "source": [
    "## Milestone 1 : "
   ]
  },
  {
   "cell_type": "markdown",
   "metadata": {},
   "source": [
    "Converts a string to an array of bits (UTF-8 encoding)"
   ]
  },
  {
   "cell_type": "code",
   "execution_count": 5,
   "metadata": {},
   "outputs": [],
   "source": [
    "def string_to_bits(string):\n",
    "    arr = bytearray(string, 'utf-8')\n",
    "    return np.unpackbits(arr)"
   ]
  },
  {
   "cell_type": "markdown",
   "metadata": {},
   "source": [
    "Converts an array of bits to a string"
   ]
  },
  {
   "cell_type": "code",
   "execution_count": 6,
   "metadata": {},
   "outputs": [],
   "source": [
    "def bits_to_string(bits):\n",
    "    b = bytearray(np.packbits(bits))\n",
    "    return str(b, 'utf-8', errors='replace')"
   ]
  },
  {
   "cell_type": "markdown",
   "metadata": {},
   "source": [
    "## Milestone 2:"
   ]
  },
  {
   "cell_type": "markdown",
   "metadata": {},
   "source": [
    "Simulates the channel without noise "
   ]
  },
  {
   "cell_type": "code",
   "execution_count": 7,
   "metadata": {},
   "outputs": [],
   "source": [
    "def noiseless_channel(channel_input):\n",
    "    channel_input = np.clip(channel_input,-1,1)\n",
    "    erased_index = np.random.randint(3) \n",
    "    channel_input[erased_index:len(channel_input):3] = 0\n",
    "    return channel_input"
   ]
  },
  {
   "cell_type": "markdown",
   "metadata": {},
   "source": [
    "The transmitter :"
   ]
  },
  {
   "cell_type": "code",
   "execution_count": 8,
   "metadata": {
    "scrolled": true
   },
   "outputs": [],
   "source": [
    "def mod3_transmitter(bits):\n",
    "    m = int(len(bits)/2)\n",
    "    result = []\n",
    "    for i in range(0,m):\n",
    "        result.append(bits[i])\n",
    "#         print(str(i) + \" : \" + str(bits[i]))\n",
    "        result.append(bits[m+i])\n",
    "#         print(str(m+i)+ \" : \" + str(bits[m+i]))\n",
    "        result.append(np.bitwise_xor(bits[i],bits[m+i]))\n",
    "#         print(\"xor : \" + str(np.bitwise_xor(bits[i],bits[m+i])))\n",
    "    return result"
   ]
  },
  {
   "cell_type": "markdown",
   "metadata": {},
   "source": [
    "And the decoder on receiver side"
   ]
  },
  {
   "cell_type": "code",
   "execution_count": 9,
   "metadata": {},
   "outputs": [],
   "source": [
    "def mod3_receiver(array):\n",
    "    array = np.clip(array,0,1)\n",
    "    k = int(len(array)/3)\n",
    "    a1 = []\n",
    "    a2 = []\n",
    "    a3 = []\n",
    "    zeros = []\n",
    "    for i in range(0,k):\n",
    "        a1.append(int(array[3*i]))\n",
    "        a2.append(int(array[3*i+1]))\n",
    "        a3.append(int(array[3*i+2]))\n",
    "        zeros.append(0)\n",
    "    if a1 == zeros:\n",
    "        a1 = np.bitwise_xor(a2,a3)\n",
    "    elif a2 == zeros:\n",
    "        a2 = np.bitwise_xor(a1,a3)\n",
    "    result = np.concatenate((a1,a2))\n",
    "    return result"
   ]
  },
  {
   "cell_type": "markdown",
   "metadata": {},
   "source": [
    "The whole communiation :"
   ]
  },
  {
   "cell_type": "code",
   "execution_count": 10,
   "metadata": {},
   "outputs": [
    {
     "name": "stdout",
     "output_type": "stream",
     "text": [
      "input string : I wish my sentence had length 80, otherwise my communication scheme would not...\n",
      "output string : I wish my sentence had length 80, otherwise my communication scheme would not...\n"
     ]
    }
   ],
   "source": [
    "print(\"input string : \" + string80)\n",
    "input_bits = string_to_bits(string80)\n",
    "# print(\"input in bits : \" + str(input_bits))\n",
    "X = mod3_transmitter(input_bits)\n",
    "# print(\"X : \" + str(X) )\n",
    "Y = noiseless_channel(X)\n",
    "# print(\"Y :\" + str(Y))\n",
    "output_bits = mod3_receiver(Y)\n",
    "# print(\"output bits :\" + str(output_bits))\n",
    "output_string = bits_to_string(output_bits)\n",
    "print(\"output string : \" +output_string)"
   ]
  },
  {
   "cell_type": "code",
   "execution_count": 11,
   "metadata": {},
   "outputs": [
    {
     "data": {
      "text/plain": [
       "True"
      ]
     },
     "execution_count": 11,
     "metadata": {},
     "output_type": "execute_result"
    }
   ],
   "source": [
    "output_string == string80"
   ]
  },
  {
   "cell_type": "markdown",
   "metadata": {},
   "source": [
    "## Milestone 3: "
   ]
  },
  {
   "cell_type": "markdown",
   "metadata": {},
   "source": [
    "Simulates the channel with noise"
   ]
  },
  {
   "cell_type": "code",
   "execution_count": 12,
   "metadata": {},
   "outputs": [],
   "source": [
    "def bin_to_int(bits):\n",
    "    a = np.flip(bits)\n",
    "    result = 0\n",
    "    for k in range(0,len(a)):\n",
    "        result += a[k]*(2**k)\n",
    "    return result"
   ]
  },
  {
   "cell_type": "code",
   "execution_count": 13,
   "metadata": {},
   "outputs": [],
   "source": [
    "def int_to_bin(n, k) :\n",
    "    result =[]\n",
    "\n",
    "    for s in format(n, 'b') :\n",
    "        result.append(int(s))\n",
    "    return np.array(np.zeros(k - len(result), int).tolist() + result)"
   ]
  },
  {
   "cell_type": "code",
   "execution_count": 14,
   "metadata": {},
   "outputs": [],
   "source": [
    "def int_to_bits(number, size):\n",
    "    result = np.zeros(size, dtype = int)\n",
    "    b = bin(number)\n",
    "    i = len(b)-1\n",
    "    j = 0\n",
    "    while i > 1:\n",
    "        result[j] = int(b[i])\n",
    "        i-=1\n",
    "        j+=1\n",
    "    result = result[:size]\n",
    "    return np.flip(result)"
   ]
  },
  {
   "cell_type": "code",
   "execution_count": 15,
   "metadata": {},
   "outputs": [],
   "source": [
    "def channel(channel_input):\n",
    "    channel_input = np.clip(channel_input,-1,1)\n",
    "    erased_index = np.random.randint(3) \n",
    "    channel_input[erased_index:len(channel_input):3] = 0\n",
    "    return channel_input + np.sqrt(10)*np.random.randn(len(channel_input))"
   ]
  },
  {
   "cell_type": "markdown",
   "metadata": {},
   "source": [
    "### Orthogonal codes"
   ]
  },
  {
   "cell_type": "code",
   "execution_count": 16,
   "metadata": {},
   "outputs": [],
   "source": [
    "#creates a codebook of size 2**k\n",
    "def create_codebook(k):\n",
    "    C_i0 = [[1]]\n",
    "    if k == 0:\n",
    "        return C_i0\n",
    "    for i in range(0,k):\n",
    "        C_i1 = []\n",
    "        for c in C_i0:\n",
    "            C_i1.append(np.concatenate((c,c)))\n",
    "            C_i1.append(np.concatenate((c,np.dot(-1,c))))\n",
    "        C_i0 = C_i1\n",
    "    return np.array(C_i1)\n",
    "        "
   ]
  },
  {
   "cell_type": "code",
   "execution_count": 17,
   "metadata": {},
   "outputs": [],
   "source": [
    "def orthogonal_encoder(bits):\n",
    "    k = 9\n",
    "    ws = 9\n",
    "    n_words = int(len(bits)/ws)\n",
    "   \n",
    "    codebook = create_codebook(k)\n",
    "    result = []\n",
    "    for i in range(0,n_words):\n",
    "        u = int(ws*i)\n",
    "        v = int((i+1)*ws)\n",
    "        b = bits[u:v]\n",
    "        index = bin_to_int(b)\n",
    "        result.append(codebook[index])\n",
    "    return np.array(result).flatten(), codebook"
   ]
  },
  {
   "cell_type": "code",
   "execution_count": 18,
   "metadata": {
    "scrolled": true
   },
   "outputs": [],
   "source": [
    "def orthogonal_decoder(bits, codebook):\n",
    "    k = 9\n",
    "    ws = 9\n",
    "    word_size = len(codebook[0])\n",
    "    n_words = int(len(bits)/word_size)\n",
    "    result = []\n",
    "    maximum = 0\n",
    "    closest_word = 0\n",
    "    \n",
    "    for i in range(0,n_words):\n",
    "        maximum = 0\n",
    "        closest_word = 0\n",
    "        u = int(word_size*i)\n",
    "        v = int(word_size*i+word_size)\n",
    "        r = [np.linalg.norm(c-bits[u:v]) for c in codebook[:word_size]]\n",
    "        closest_word = np.argmin(r)\n",
    "        result.append(int_to_bits(closest_word, ws))\n",
    "    \n",
    "    return result"
   ]
  },
  {
   "cell_type": "markdown",
   "metadata": {},
   "source": [
    "### Guessing H :"
   ]
  },
  {
   "cell_type": "code",
   "execution_count": 19,
   "metadata": {},
   "outputs": [],
   "source": [
    "def H_guesser(array):\n",
    "    #argmin_j |y_j|^2\n",
    "    a1 = array[0::3]\n",
    "    a2 = array[1::3]\n",
    "    a3 = array[2::3]\n",
    "    y1 = (np.linalg.norm(a1))**2\n",
    "    y2 = (np.linalg.norm(a2))**2\n",
    "    y3 = (np.linalg.norm(a3))**2\n",
    "    return np.argmin([y1,y2,y3])"
   ]
  },
  {
   "cell_type": "code",
   "execution_count": 20,
   "metadata": {},
   "outputs": [],
   "source": [
    "def replace(bits, H): \n",
    "    b = bits\n",
    "    for i in range(0, len(b)):\n",
    "        if (i%3 == H) : \n",
    "            b[i] = 0\n",
    "    return b"
   ]
  },
  {
   "cell_type": "markdown",
   "metadata": {},
   "source": [
    "## Explanation of the communication scheme:\n",
    "### 1. Convert the string to an array of bits\n",
    "\n",
    "\n",
    "### 2. Translate the array to a list of codewords, obtained from orthogonal codes.\n",
    "\n",
    "For k = 2, this is what the codebook would look like:\n",
    "\n",
    "$ \\mathcal{C} = \\{ \\begin{bmatrix}1\\\\1\\\\1\\\\1\\end{bmatrix}, \\begin{bmatrix}1\\\\1\\\\-1\\\\-1\\end{bmatrix}, \\begin{bmatrix}1\\\\-1\\\\1\\\\-1\\end{bmatrix}, \\begin{bmatrix}1\\\\-1\\\\-1\\\\1\\end{bmatrix} \\}$\n",
    "\n",
    "\n",
    "At this step, we can tune parameters to obtain the best result:\n",
    "- $2^k$: the codeword size (and codebook length)\n",
    "- ws and n_words: the word size and number of words, which define the minimum codebook size and the amount of codewords that will be transmitted\n",
    "\n",
    "We obtain our block length n: $n = 2^k * $nw , which has to be less than 60'000.\n",
    "\n",
    "### 3. The array of length n goes through the communication channel.\n",
    "\n",
    "$ X = \\begin{bmatrix} 1 & 1 & 1 & -1 & ... & -1 & -1 & 1\\end{bmatrix}$ $\\rightarrow$ _channel_ $\\rightarrow$ $ Y = \\begin{bmatrix} 3.43 & 2.24 & -7.32 & -3.2 & ... & -0.54 & 1.32 & 6.32\\end{bmatrix}$\n",
    "\n",
    "\n",
    "### 4. Guess H using a MAP estimator, set all _deleted_ elements to 0.\n",
    "\n",
    "$ H = argmin_{i=1,2,3} ||Y_i||$ \n",
    "\n",
    "with $Y_i$'s being the 3 subarrays of $Y$, obtained by taking alternatively 1/3 elements.\n",
    "\n",
    "\n",
    "### 6. Use a MAP estimator to estimate each codeword. Translate them back to an array of bits.\n",
    "\n",
    "$ \\hat{x_l} = argmin_{j=1,...,2^k} ||c_j - y_l||$ for $y_l$ words of $Y$ and $c_j \\in \\mathcal{C}$\n",
    "\n",
    "\n",
    "### 7. Finally, convert the array back to string, with utf-8 encoding. Then compare the string with the original one."
   ]
  },
  {
   "cell_type": "markdown",
   "metadata": {},
   "source": [
    "### The communication :"
   ]
  },
  {
   "cell_type": "code",
   "execution_count": 21,
   "metadata": {
    "scrolled": false
   },
   "outputs": [
    {
     "data": {
      "text/plain": [
       "80"
      ]
     },
     "execution_count": 21,
     "metadata": {},
     "output_type": "execute_result"
    }
   ],
   "source": [
    "string80 = \"As has been pointed out several times, there is no such thing as a random number\"\n",
    "len(string80)"
   ]
  },
  {
   "cell_type": "code",
   "execution_count": 42,
   "metadata": {},
   "outputs": [],
   "source": [
    "def comm(string=string80 ):\n",
    "    input_bits = string_to_bits(string80)\n",
    "    A, codebook = orthogonal_encoder(input_bits)\n",
    "    Y = channel(A)\n",
    "    H = H_guesser(Y)\n",
    "    Y_1 = replace(Y, H)\n",
    "    output_bits = orthogonal_decoder(Y_1, codebook)\n",
    "    out = bits_to_string(output_bits)\n",
    "    return out"
   ]
  },
  {
   "cell_type": "code",
   "execution_count": 43,
   "metadata": {
    "scrolled": true
   },
   "outputs": [
    {
     "data": {
      "text/plain": [
       "'I wish my sentence had length 80, otherwise my communication scheme would not...'"
      ]
     },
     "execution_count": 43,
     "metadata": {},
     "output_type": "execute_result"
    }
   ],
   "source": [
    "comm()"
   ]
  },
  {
   "cell_type": "code",
   "execution_count": 49,
   "metadata": {},
   "outputs": [],
   "source": [
    "def error_prob():\n",
    "    yes = 0\n",
    "    total = 1000\n",
    "    for i in range(0,total):\n",
    "        if comm() == string80:\n",
    "            yes+=1\n",
    "    return 1 - (yes/total)"
   ]
  },
  {
   "cell_type": "code",
   "execution_count": 79,
   "metadata": {
    "scrolled": true
   },
   "outputs": [
    {
     "data": {
      "text/plain": [
       "0.32299999999999995"
      ]
     },
     "execution_count": 79,
     "metadata": {},
     "output_type": "execute_result"
    }
   ],
   "source": [
    "error_prob()"
   ]
  }
 ],
 "metadata": {
  "kernelspec": {
   "display_name": "Python 3",
   "language": "python",
   "name": "python3"
  },
  "language_info": {
   "codemirror_mode": {
    "name": "ipython",
    "version": 3
   },
   "file_extension": ".py",
   "mimetype": "text/x-python",
   "name": "python",
   "nbconvert_exporter": "python",
   "pygments_lexer": "ipython3",
   "version": "3.8.5"
  }
 },
 "nbformat": 4,
 "nbformat_minor": 5
}
