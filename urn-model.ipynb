{
 "cells": [
  {
   "cell_type": "markdown",
   "id": "medieval-adaptation",
   "metadata": {},
   "source": [
    "# Urn model:\n",
    "## 2 urns: majority blue or majority red"
   ]
  },
  {
   "cell_type": "code",
   "execution_count": 119,
   "id": "graphic-element",
   "metadata": {},
   "outputs": [],
   "source": [
    "import numpy as np\n",
    "from matplotlib import pyplot as plt"
   ]
  },
  {
   "cell_type": "code",
   "execution_count": 136,
   "id": "american-turkish",
   "metadata": {},
   "outputs": [],
   "source": [
    "#0 represents blue, 1 represents red\n",
    "urn_b = [0,0,1]\n",
    "urn_r = [1,1,0]\n",
    "#number of individuals\n",
    "n = 1000"
   ]
  },
  {
   "cell_type": "code",
   "execution_count": 137,
   "id": "circular-discipline",
   "metadata": {},
   "outputs": [],
   "source": [
    "def pick_urn(a,b):\n",
    "    return [a,b][np.random.randint(0,2)]"
   ]
  },
  {
   "cell_type": "code",
   "execution_count": 138,
   "id": "respiratory-acquisition",
   "metadata": {},
   "outputs": [],
   "source": [
    "def pick_ball(urn):\n",
    "    return urn[np.random.randint(0,3)]"
   ]
  },
  {
   "cell_type": "code",
   "execution_count": 139,
   "id": "turned-uruguay",
   "metadata": {},
   "outputs": [],
   "source": [
    "def place_guess_selfish(ball, prev):\n",
    "    prev[ball]+=1\n",
    "    return np.maximum(prev[0], prev[1])"
   ]
  },
  {
   "cell_type": "code",
   "execution_count": 140,
   "id": "respiratory-shirt",
   "metadata": {},
   "outputs": [],
   "source": [
    "def print_result(guesses, urn):\n",
    "    print(\"Blue: \" + str(guesses[0]))\n",
    "    print(\"Red: \" + str(guesses[1]))\n",
    "    correctness = 'incorrect'\n",
    "    if urn == urn_b:\n",
    "        c = 'Blue'\n",
    "        if guesses[0]>guesses[1]:\n",
    "            correctness = 'correct'\n",
    "    else:\n",
    "        c = 'Red'\n",
    "        if guesses[0]<guesses[1]:\n",
    "            correctness = 'correct'\n",
    "    print(\"The urn was majority \" + c + \". Therefore, the crowd was \" + correctness + \"!\")"
   ]
  },
  {
   "cell_type": "markdown",
   "id": "external-development",
   "metadata": {},
   "source": [
    "### 1) Altruistic model:"
   ]
  },
  {
   "cell_type": "code",
   "execution_count": 141,
   "id": "compatible-reservation",
   "metadata": {},
   "outputs": [
    {
     "name": "stdout",
     "output_type": "stream",
     "text": [
      "Blue: 671\n",
      "Red: 329\n",
      "The urn was majority Blue. Therefore, the crowd was correct!\n"
     ]
    }
   ],
   "source": [
    "urn = pick_urn(urn_r,urn_b)\n",
    "guesses = [0,0]\n",
    "for i in range(n):\n",
    "    ball = pick_ball(urn)\n",
    "    guesses[ball] += 1\n",
    "print_result(guesses, urn)"
   ]
  },
  {
   "cell_type": "markdown",
   "id": "executive-suffering",
   "metadata": {},
   "source": [
    "### 2) Selfish model:"
   ]
  },
  {
   "cell_type": "code",
   "execution_count": 422,
   "id": "peaceful-convenience",
   "metadata": {},
   "outputs": [
    {
     "name": "stdout",
     "output_type": "stream",
     "text": [
      "Blue: 1000\n",
      "Red: 0\n",
      "The urn was majority Blue. Therefore, the crowd was correct!\n"
     ]
    }
   ],
   "source": [
    "urn = pick_urn(urn_r,urn_b)\n",
    "guesses = [0,0]\n",
    "for i in range(n):\n",
    "    ball = pick_ball(urn)\n",
    "    prev = guesses.copy()\n",
    "    prev[ball]+=1\n",
    "    guesses[np.argmax(prev)] += 1\n",
    "    if i == 0 and ball!=urn[0]:\n",
    "        print('guesser 0 is incorrect...')\n",
    "        \n",
    "print_result(guesses, urn)"
   ]
  },
  {
   "cell_type": "markdown",
   "id": "imported-nigeria",
   "metadata": {},
   "source": [
    "### 3) See the evolution:"
   ]
  },
  {
   "cell_type": "code",
   "execution_count": 739,
   "id": "latin-petersburg",
   "metadata": {},
   "outputs": [],
   "source": [
    "urn = pick_urn(urn_r,urn_b)\n",
    "guesses_a = [0,0]\n",
    "guesses_s = [0,0]\n",
    "reward_a = 0\n",
    "reward_s = 0"
   ]
  },
  {
   "cell_type": "code",
   "execution_count": 659,
   "id": "impressive-palestinian",
   "metadata": {},
   "outputs": [
    {
     "name": "stdout",
     "output_type": "stream",
     "text": [
      "Blue urn\n"
     ]
    }
   ],
   "source": [
    "if urn[0] == 0:\n",
    "    print('Blue urn')\n",
    "else:\n",
    "    print('Red urn')"
   ]
  },
  {
   "cell_type": "code",
   "execution_count": 738,
   "id": "contained-stranger",
   "metadata": {},
   "outputs": [
    {
     "name": "stdout",
     "output_type": "stream",
     "text": [
      "Selfish:\t\t Reward: 79\n",
      "Blue: 79\n",
      "Red: 0\n",
      "Altruistic:\t\t Reward: 54\n",
      "Blue: 54\n",
      "Red: 25\n"
     ]
    }
   ],
   "source": [
    "ball = pick_ball(urn)\n",
    "#selfish\n",
    "prev = guesses_s.copy()\n",
    "g = np.argmax(prev)\n",
    "guesses_s[g] += 1\n",
    "if g == urn[0]:\n",
    "    reward_s += 1\n",
    "prev[ball]+=1\n",
    "#altruistic:\n",
    "if ball == urn[0]:\n",
    "    reward_a += 1\n",
    "guesses_a[ball] += 1\n",
    "print('Selfish:\\t\\t Reward: ' + str(reward_s))\n",
    "print(\"Blue: \" + str(guesses_s[0]))\n",
    "print(\"Red: \" + str(guesses_s[1]))\n",
    "print('Altruistic:\\t\\t Reward: ' + str(reward_a))\n",
    "print(\"Blue: \" + str(guesses_a[0]))\n",
    "print(\"Red: \" + str(guesses_a[1]))"
   ]
  },
  {
   "cell_type": "code",
   "execution_count": null,
   "id": "sublime-newspaper",
   "metadata": {},
   "outputs": [],
   "source": []
  }
 ],
 "metadata": {
  "kernelspec": {
   "display_name": "Python 3",
   "language": "python",
   "name": "python3"
  },
  "language_info": {
   "codemirror_mode": {
    "name": "ipython",
    "version": 3
   },
   "file_extension": ".py",
   "mimetype": "text/x-python",
   "name": "python",
   "nbconvert_exporter": "python",
   "pygments_lexer": "ipython3",
   "version": "3.9.2"
  }
 },
 "nbformat": 4,
 "nbformat_minor": 5
}
