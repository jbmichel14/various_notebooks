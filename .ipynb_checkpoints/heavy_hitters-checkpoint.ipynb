{
 "cells": [
  {
   "cell_type": "markdown",
   "metadata": {},
   "source": [
    "# Heavy Hitters Algorithm"
   ]
  },
  {
   "cell_type": "markdown",
   "metadata": {},
   "source": [
    "_Quick and easy implementation of the heavy hitters algorithm that finds the most frequent element in a stream in $O(n)$ complexity and $O(log(n/\\theta))$ space._"
   ]
  },
  {
   "cell_type": "markdown",
   "metadata": {},
   "source": [
    "Given: \n",
    "- alphabet size m\n",
    "- threshold criterion $\\theta$\n",
    "- stream of unkown values\n",
    "\n",
    "Find most frequent value in the stream."
   ]
  },
  {
   "cell_type": "code",
   "execution_count": 19,
   "metadata": {},
   "outputs": [],
   "source": [
    "import numpy as np"
   ]
  },
  {
   "cell_type": "code",
   "execution_count": 72,
   "metadata": {},
   "outputs": [],
   "source": [
    "def heavy_hitters(stream, theta):\n",
    "    K = dict()\n",
    "    # First pass: go through the stream\n",
    "    for x in stream:\n",
    "        if x in K:\n",
    "            K[x] += 1\n",
    "        else:\n",
    "            K[x] = 1\n",
    "        zero_indices = []\n",
    "        if len(K) >= int(1/theta):\n",
    "            for key in K:\n",
    "                K[key] -= 1\n",
    "                if K[key] == 0:\n",
    "                    zero_indices.append(key)\n",
    "        for z in zero_indices:\n",
    "            del K[z]\n",
    "    \n",
    "    # Second pass: get counts\n",
    "    return list(K.keys())[np.argmax(list(K.values()))]\n",
    " "
   ]
  },
  {
   "cell_type": "code",
   "execution_count": 86,
   "metadata": {},
   "outputs": [],
   "source": [
    "def actual_result(stream):\n",
    "    d = dict()\n",
    "    for x in stream:\n",
    "        if x in d:\n",
    "            d[x]+=1\n",
    "        else:\n",
    "            d[x]=1\n",
    "    return list(d.keys())[np.argmax(list(d.values()))]      "
   ]
  },
  {
   "cell_type": "code",
   "execution_count": 90,
   "metadata": {},
   "outputs": [],
   "source": [
    "m = 100\n",
    "length = 10000"
   ]
  },
  {
   "cell_type": "code",
   "execution_count": 91,
   "metadata": {},
   "outputs": [],
   "source": [
    "rng = np.random.default_rng()\n",
    "stream = rng.integers(low=0, high=m, size=length)"
   ]
  },
  {
   "cell_type": "code",
   "execution_count": 98,
   "metadata": {
    "scrolled": false
   },
   "outputs": [
    {
     "data": {
      "text/plain": [
       "18"
      ]
     },
     "execution_count": 98,
     "metadata": {},
     "output_type": "execute_result"
    }
   ],
   "source": [
    "heavy_hitters(stream, 0.01)"
   ]
  },
  {
   "cell_type": "code",
   "execution_count": 99,
   "metadata": {
    "scrolled": true
   },
   "outputs": [
    {
     "data": {
      "text/plain": [
       "18"
      ]
     },
     "execution_count": 99,
     "metadata": {},
     "output_type": "execute_result"
    }
   ],
   "source": [
    "actual_result(stream)"
   ]
  },
  {
   "cell_type": "code",
   "execution_count": 84,
   "metadata": {},
   "outputs": [],
   "source": [
    "# ADD VISUALIZATION!!! (histograms/boxplot)"
   ]
  }
 ],
 "metadata": {
  "kernelspec": {
   "display_name": "Python 3",
   "language": "python",
   "name": "python3"
  },
  "language_info": {
   "codemirror_mode": {
    "name": "ipython",
    "version": 3
   },
   "file_extension": ".py",
   "mimetype": "text/x-python",
   "name": "python",
   "nbconvert_exporter": "python",
   "pygments_lexer": "ipython3",
   "version": "3.8.5"
  }
 },
 "nbformat": 4,
 "nbformat_minor": 4
}
